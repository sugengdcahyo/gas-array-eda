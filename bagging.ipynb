{
 "cells": [
  {
   "cell_type": "markdown",
   "id": "95bfb863-0d47-404d-ba67-6a127d555f48",
   "metadata": {},
   "source": [
    "# Bagging \n",
    "1. Fitra Ahya Mubarok *23/529994/PPA/06705*\n",
    "2. Daniel Eduardus Kristianto *23/530253/PPA/06723*\n",
    "3. Sugeng Dwi Cahyono *23/531008/PPA/06757*\n"
   ]
  },
  {
   "cell_type": "code",
   "execution_count": 120,
   "id": "13df2728-c7b5-4aa4-9e48-f5a524da7262",
   "metadata": {},
   "outputs": [],
   "source": [
    "import pandas as pd\n",
    "import numpy as np\n",
    "import seaborn as sns\n",
    "from matplotlib import pyplot as plt\n",
    "from sklearn.ensemble import BaggingClassifier\n",
    "from sklearn.tree import DecisionTreeClassifier\n",
    "from sklearn.metrics import accuracy_score"
   ]
  },
  {
   "cell_type": "code",
   "execution_count": 139,
   "id": "e40add73-8bc2-40b1-92a5-d70a06dba888",
   "metadata": {},
   "outputs": [],
   "source": [
    "from warnings import simplefilter\n",
    "simplefilter(action='ignore', category=FutureWarning)"
   ]
  },
  {
   "cell_type": "code",
   "execution_count": 140,
   "id": "37603980-b943-46ed-a159-e7f55437111c",
   "metadata": {},
   "outputs": [],
   "source": [
    "df_train = pd.read_csv('/home/jovyan/datasets/titanic/train.csv')\n",
    "\n",
    "df = df_train"
   ]
  },
  {
   "cell_type": "code",
   "execution_count": 141,
   "id": "1106291e-4146-4bef-abb5-a9ccaac59220",
   "metadata": {},
   "outputs": [
    {
     "data": {
      "text/html": [
       "<div>\n",
       "<style scoped>\n",
       "    .dataframe tbody tr th:only-of-type {\n",
       "        vertical-align: middle;\n",
       "    }\n",
       "\n",
       "    .dataframe tbody tr th {\n",
       "        vertical-align: top;\n",
       "    }\n",
       "\n",
       "    .dataframe thead th {\n",
       "        text-align: right;\n",
       "    }\n",
       "</style>\n",
       "<table border=\"1\" class=\"dataframe\">\n",
       "  <thead>\n",
       "    <tr style=\"text-align: right;\">\n",
       "      <th></th>\n",
       "      <th>PassengerId</th>\n",
       "      <th>Survived</th>\n",
       "      <th>Pclass</th>\n",
       "      <th>Name</th>\n",
       "      <th>Sex</th>\n",
       "      <th>Age</th>\n",
       "      <th>SibSp</th>\n",
       "      <th>Parch</th>\n",
       "      <th>Ticket</th>\n",
       "      <th>Fare</th>\n",
       "      <th>Cabin</th>\n",
       "      <th>Embarked</th>\n",
       "    </tr>\n",
       "  </thead>\n",
       "  <tbody>\n",
       "    <tr>\n",
       "      <th>0</th>\n",
       "      <td>1</td>\n",
       "      <td>0</td>\n",
       "      <td>3</td>\n",
       "      <td>Braund, Mr. Owen Harris</td>\n",
       "      <td>male</td>\n",
       "      <td>22.0</td>\n",
       "      <td>1</td>\n",
       "      <td>0</td>\n",
       "      <td>A/5 21171</td>\n",
       "      <td>7.2500</td>\n",
       "      <td>NaN</td>\n",
       "      <td>S</td>\n",
       "    </tr>\n",
       "    <tr>\n",
       "      <th>1</th>\n",
       "      <td>2</td>\n",
       "      <td>1</td>\n",
       "      <td>1</td>\n",
       "      <td>Cumings, Mrs. John Bradley (Florence Briggs Th...</td>\n",
       "      <td>female</td>\n",
       "      <td>38.0</td>\n",
       "      <td>1</td>\n",
       "      <td>0</td>\n",
       "      <td>PC 17599</td>\n",
       "      <td>71.2833</td>\n",
       "      <td>C85</td>\n",
       "      <td>C</td>\n",
       "    </tr>\n",
       "    <tr>\n",
       "      <th>2</th>\n",
       "      <td>3</td>\n",
       "      <td>1</td>\n",
       "      <td>3</td>\n",
       "      <td>Heikkinen, Miss. Laina</td>\n",
       "      <td>female</td>\n",
       "      <td>26.0</td>\n",
       "      <td>0</td>\n",
       "      <td>0</td>\n",
       "      <td>STON/O2. 3101282</td>\n",
       "      <td>7.9250</td>\n",
       "      <td>NaN</td>\n",
       "      <td>S</td>\n",
       "    </tr>\n",
       "    <tr>\n",
       "      <th>3</th>\n",
       "      <td>4</td>\n",
       "      <td>1</td>\n",
       "      <td>1</td>\n",
       "      <td>Futrelle, Mrs. Jacques Heath (Lily May Peel)</td>\n",
       "      <td>female</td>\n",
       "      <td>35.0</td>\n",
       "      <td>1</td>\n",
       "      <td>0</td>\n",
       "      <td>113803</td>\n",
       "      <td>53.1000</td>\n",
       "      <td>C123</td>\n",
       "      <td>S</td>\n",
       "    </tr>\n",
       "    <tr>\n",
       "      <th>4</th>\n",
       "      <td>5</td>\n",
       "      <td>0</td>\n",
       "      <td>3</td>\n",
       "      <td>Allen, Mr. William Henry</td>\n",
       "      <td>male</td>\n",
       "      <td>35.0</td>\n",
       "      <td>0</td>\n",
       "      <td>0</td>\n",
       "      <td>373450</td>\n",
       "      <td>8.0500</td>\n",
       "      <td>NaN</td>\n",
       "      <td>S</td>\n",
       "    </tr>\n",
       "  </tbody>\n",
       "</table>\n",
       "</div>"
      ],
      "text/plain": [
       "   PassengerId  Survived  Pclass  \\\n",
       "0            1         0       3   \n",
       "1            2         1       1   \n",
       "2            3         1       3   \n",
       "3            4         1       1   \n",
       "4            5         0       3   \n",
       "\n",
       "                                                Name     Sex   Age  SibSp  \\\n",
       "0                            Braund, Mr. Owen Harris    male  22.0      1   \n",
       "1  Cumings, Mrs. John Bradley (Florence Briggs Th...  female  38.0      1   \n",
       "2                             Heikkinen, Miss. Laina  female  26.0      0   \n",
       "3       Futrelle, Mrs. Jacques Heath (Lily May Peel)  female  35.0      1   \n",
       "4                           Allen, Mr. William Henry    male  35.0      0   \n",
       "\n",
       "   Parch            Ticket     Fare Cabin Embarked  \n",
       "0      0         A/5 21171   7.2500   NaN        S  \n",
       "1      0          PC 17599  71.2833   C85        C  \n",
       "2      0  STON/O2. 3101282   7.9250   NaN        S  \n",
       "3      0            113803  53.1000  C123        S  \n",
       "4      0            373450   8.0500   NaN        S  "
      ]
     },
     "execution_count": 141,
     "metadata": {},
     "output_type": "execute_result"
    }
   ],
   "source": [
    "df.head()"
   ]
  },
  {
   "cell_type": "code",
   "execution_count": 142,
   "id": "c23e132a-6808-41cb-9883-a9d11db6372f",
   "metadata": {},
   "outputs": [
    {
     "data": {
      "image/png": "[encoded data removed]",
      "text/plain": [
       "<Figure size 640x480 with 1 Axes>"
      ]
     },
     "metadata": {},
     "output_type": "display_data"
    }
   ],
   "source": [
    "# Visualisasi jumlah penumpang yang selamat berdasarkan jenis kelamin\n",
    "sns.countplot(x='Survived', hue='Sex', data=df)\n",
    "plt.title('Survival Count by Gender')\n",
    "plt.show()\n"
   ]
  },
  {
   "cell_type": "code",
   "execution_count": 143,
   "id": "d30ab757-a60b-443d-b5fd-7ba2b32a520b",
   "metadata": {},
   "outputs": [
    {
     "data": {
      "image/png": "[encoded data removed]",
      "text/plain": [
       "<Figure size 640x480 with 1 Axes>"
      ]
     },
     "metadata": {},
     "output_type": "display_data"
    }
   ],
   "source": [
    "\n",
    "# Visualisasi distribusi usia penumpang\n",
    "sns.histplot(df['Age'].dropna(), kde=True)\n",
    "plt.title('Age Distribution')\n",
    "plt.show()"
   ]
  },
  {
   "cell_type": "code",
   "execution_count": 144,
   "id": "65b76309-3017-479e-8be8-1d9943a353d0",
   "metadata": {},
   "outputs": [
    {
     "data": {
      "image/png": "[encoded data removed]",
      "text/plain": [
       "<Figure size 640x480 with 1 Axes>"
      ]
     },
     "metadata": {},
     "output_type": "display_data"
    }
   ],
   "source": [
    "\n",
    "# Visualisasi hubungan antara kelas penumpang dan kelangsungan hidup\n",
    "sns.countplot(x='Pclass', hue='Survived', data=df)\n",
    "plt.title('Survival Count by Passenger Class')\n",
    "plt.show()"
   ]
  },
  {
   "cell_type": "code",
   "execution_count": 145,
   "id": "49d77b37-e205-4d8a-a63b-867d7a52a12e",
   "metadata": {
    "scrolled": true
   },
   "outputs": [],
   "source": [
    "from sklearn.preprocessing import LabelEncoder\n",
    "from sklearn.model_selection import train_test_split\n",
    "\n",
    "# Mengisi nilai yang hilang\n",
    "df['Age'].fillna(df['Age'].median(), inplace=True)\n",
    "df['Embarked'].fillna(df['Embarked'].mode()[0], inplace=True)\n",
    "\n",
    "# Mengubah fitur kategorikal menjadi numerik\n",
    "le = LabelEncoder()\n",
    "df['Sex'] = le.fit_transform(df['Sex'])\n",
    "df['Embarked'] = le.fit_transform(df['Embarked'])\n",
    "\n",
    "# Memilih fitur dan target\n",
    "X = df[['Pclass', 'Sex', 'Age', 'SibSp', 'Parch', 'Fare', 'Embarked']]\n",
    "y = df['Survived']\n",
    "\n",
    "# Membagi dataset menjadi training dan testing set\n",
    "X_train, X_test, y_train, y_test = train_test_split(X, y, test_size=0.2, random_state=42)\n"
   ]
  },
  {
   "cell_type": "code",
   "execution_count": 146,
   "id": "4efea686-800c-485e-9ca4-1242bec171f7",
   "metadata": {},
   "outputs": [],
   "source": [
    "def bagging_process(X_train, y_train, subset_size):\n",
    "    # Memastikan subset_size tidak lebih besar dari ukuran dataset asli\n",
    "    if subset_size > len(X_train):\n",
    "        raise ValueError(\"subset_size is larger than the training set size\")\n",
    "        \n",
    "    # Menghasilkan indeks sampel acak dengan penggantian\n",
    "    indexes = np.random.choice(X_train.index, size=subset_size, replace=True)\n",
    "    # Membuat bootstrap sample untuk fitur dan target\n",
    "    bag_X = X_train.loc[indexes]\n",
    "    bag_y = y_train.loc[indexes]\n",
    "    return (bag_X, bag_y)\n"
   ]
  },
  {
   "cell_type": "code",
   "execution_count": 147,
   "id": "c52142b4-5f90-4460-b382-a83cc956c5e8",
   "metadata": {},
   "outputs": [],
   "source": [
    "# Bagging\n",
    "\n",
    "bags = []\n",
    "global bagging_clf \n",
    "\n",
    "def bagging(bag_size: int):\n",
    "    for i in range(bag_size):\n",
    "        X_train, y_train = bagging_process(X, y, subset_size=600)\n",
    "        bagging_clf = BaggingClassifier(\n",
    "            DecisionTreeClassifier(),\n",
    "            n_estimators=3,  # Jumlah model dalam ensemble\n",
    "            random_state=42,\n",
    "            max_samples=200\n",
    "        )\n",
    "        bagging_clf.fit(X_train, y_train)\n",
    "        bags.append(\n",
    "            bagging_clf.predict(X_test)\n",
    "        )\n",
    "    return bags\n"
   ]
  },
  {
   "cell_type": "code",
   "execution_count": 148,
   "id": "7db305e2-83fa-4d08-911d-651be2a01b82",
   "metadata": {},
   "outputs": [],
   "source": [
    "bag_results = bagging(bag_size=111)"
   ]
  },
  {
   "cell_type": "code",
   "execution_count": 149,
   "id": "2735d6da-e124-4e01-bf59-d986d413dd96",
   "metadata": {},
   "outputs": [],
   "source": [
    "mojority_test = 0\n",
    "\n",
    "def majority_vote(data):\n",
    "    # Inisialisasi list untuk menyimpan hasil vote\n",
    "    result = []\n",
    "    # Mendapatkan jumlah kolom\n",
    "    num_columns = len(data[0])\n",
    "    \n",
    "    # Looping melalui setiap kolom\n",
    "    for col in range(num_columns):\n",
    "        # Menghitung jumlah 0 dan 1 di kolom ini\n",
    "        count_0 = 0\n",
    "        count_1 = 0\n",
    "        for row in data:\n",
    "            if row[col] == 0:\n",
    "                count_0 += 1\n",
    "            else:\n",
    "                count_1 += 1\n",
    "        \n",
    "        # Menentukan mayoritas dan menambahkan ke hasil\n",
    "        if count_0 > count_1:\n",
    "            result.append(0)\n",
    "        else:\n",
    "            # Jika count_1 lebih besar atau sama dengan count_0, kita memilih 1\n",
    "            result.append(1)\n",
    "    \n",
    "    return result\n"
   ]
  },
  {
   "cell_type": "code",
   "execution_count": 150,
   "id": "78dbd3fc-ee24-47fe-871b-26cef8f7fd30",
   "metadata": {},
   "outputs": [],
   "source": [
    "results = majority_vote(bag_results)"
   ]
  },
  {
   "cell_type": "code",
   "execution_count": 151,
   "id": "c2e4cad0-33ef-41ce-8d32-e6021544ae17",
   "metadata": {},
   "outputs": [
    {
     "name": "stdout",
     "output_type": "stream",
     "text": [
      "Accuracy : 0.9497206703910615\n"
     ]
    }
   ],
   "source": [
    "print(\"Accuracy :\",accuracy_score(results, y_pred))"
   ]
  },
  {
   "cell_type": "code",
   "execution_count": null,
   "id": "0794074f-9d34-4c1d-a59d-217b408e4ccb",
   "metadata": {},
   "outputs": [],
   "source": []
  },
  {
   "cell_type": "code",
   "execution_count": null,
   "id": "ba810969-ade3-43a1-bfbf-4e4e9f6b5861",
   "metadata": {},
   "outputs": [],
   "source": []
  },
  {
   "cell_type": "code",
   "execution_count": null,
   "id": "7b30c6cb-dd40-4364-8519-a0ae74c05652",
   "metadata": {},
   "outputs": [],
   "source": []
  },
  {
   "cell_type": "code",
   "execution_count": null,
   "id": "68349565-e0c3-4222-ac23-dfb13bc436b5",
   "metadata": {},
   "outputs": [],
   "source": []
  },
  {
   "cell_type": "code",
   "execution_count": null,
   "id": "54d1f5e2-ee77-4a72-850a-393c76cc88bc",
   "metadata": {},
   "outputs": [],
   "source": []
  },
  {
   "cell_type": "code",
   "execution_count": null,
   "id": "28fecadd-2c35-4626-b6f6-39913a2c1fba",
   "metadata": {},
   "outputs": [],
   "source": []
  },
  {
   "cell_type": "code",
   "execution_count": null,
   "id": "40f59694-63c2-4aec-b305-76d4c596897b",
   "metadata": {},
   "outputs": [],
   "source": []
  },
  {
   "cell_type": "code",
   "execution_count": null,
   "id": "9595b751-8751-48e2-8552-15ad139aa2f0",
   "metadata": {},
   "outputs": [],
   "source": []
  },
  {
   "cell_type": "code",
   "execution_count": null,
   "id": "bdcbdd45-d2bd-4838-9bee-d671631443c4",
   "metadata": {},
   "outputs": [],
   "source": []
  },
  {
   "cell_type": "code",
   "execution_count": null,
   "id": "b8b38a2d-cbe9-4c48-823b-c8e7bea40c81",
   "metadata": {},
   "outputs": [],
   "source": []
  },
  {
   "cell_type": "code",
   "execution_count": null,
   "id": "8d586c23-2e8d-4015-bf14-1ad724409aee",
   "metadata": {},
   "outputs": [],
   "source": []
  },
  {
   "cell_type": "code",
   "execution_count": null,
   "id": "be33b271-e72e-466d-8828-745aaf553d73",
   "metadata": {},
   "outputs": [],
   "source": []
  },
  {
   "cell_type": "code",
   "execution_count": null,
   "id": "a04f1fb7-6391-43f3-b2f9-5a2ab6a1c878",
   "metadata": {},
   "outputs": [],
   "source": []
  },
  {
   "cell_type": "code",
   "execution_count": null,
   "id": "a9b90faf-2fd9-4c70-91f5-eee9d879a8f4",
   "metadata": {},
   "outputs": [],
   "source": []
  },
  {
   "cell_type": "code",
   "execution_count": null,
   "id": "3dd740bd-1f06-4ab2-97e5-f7bad9c6f54b",
   "metadata": {},
   "outputs": [],
   "source": []
  },
  {
   "cell_type": "code",
   "execution_count": null,
   "id": "60715562-8809-4d8e-91be-0ae006a173ac",
   "metadata": {},
   "outputs": [],
   "source": []
  },
  {
   "cell_type": "code",
   "execution_count": null,
   "id": "f69bac64-b630-4071-97b5-16cf777f9997",
   "metadata": {},
   "outputs": [],
   "source": []
  },
  {
   "cell_type": "code",
   "execution_count": null,
   "id": "a2b1f006-d0d2-42fa-be7e-e2fd8b4d3b82",
   "metadata": {},
   "outputs": [],
   "source": []
  },
  {
   "cell_type": "code",
   "execution_count": null,
   "id": "d8db1f12-1832-4295-8d6e-c16bc26dba09",
   "metadata": {},
   "outputs": [],
   "source": []
  },
  {
   "cell_type": "code",
   "execution_count": null,
   "id": "930438d6-c684-4206-843e-fab72ff5b62a",
   "metadata": {},
   "outputs": [],
   "source": []
  }
 ],
 "metadata": {
  "kernelspec": {
   "display_name": "Python 3 (ipykernel)",
   "language": "python",
   "name": "python3"
  },
  "language_info": {
   "codemirror_mode": {
    "name": "ipython",
    "version": 3
   },
   "file_extension": ".py",
   "mimetype": "text/x-python",
   "name": "python",
   "nbconvert_exporter": "python",
   "pygments_lexer": "ipython3",
   "version": "3.11.6"
  }
 },
 "nbformat": 4,
 "nbformat_minor": 5
}
